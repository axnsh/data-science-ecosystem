{
  "metadata": {
    "kernelspec": {
      "name": "xpython",
      "display_name": "Python 3.13 (XPython)",
      "language": "python"
    },
    "language_info": {
      "file_extension": ".py",
      "mimetype": "text/x-python",
      "name": "python",
      "version": "3.13.1"
    }
  },
  "nbformat_minor": 5,
  "nbformat": 4,
  "cells": [
    {
      "id": "3886a9f2-5cfd-4997-8799-a2d8457d8bbe",
      "cell_type": "markdown",
      "source": "# Data Science Tools and Ecosystem",
      "metadata": {}
    },
    {
      "id": "2c4b4a80-640c-4934-ae29-df739a322e97",
      "cell_type": "markdown",
      "source": "In this notebook, Data Science Tools and Ecosystem are summarized.",
      "metadata": {}
    },
    {
      "id": "2de76080-970e-4653-a98a-fff8a9dd8eb4",
      "cell_type": "markdown",
      "source": "Some of the popular languages that Data Scientists use are:\n1. Python\n2. R\n3. SQL\n4. C++ etc..;",
      "metadata": {}
    },
    {
      "id": "11cb0c92-5490-43b9-9ee8-41be119f8c47",
      "cell_type": "markdown",
      "source": "Some of the commonly used libraries used by Data Scientists include:\n\n1. TensorFlow\n3. NumPy\n4. SciPy\n5. Pandas\n6. Matplotlib\n7. Keras\n8. SciKit-Learn\n9. PyTorch etc..;",
      "metadata": {}
    },
    {
      "id": "1bba33cb-f971-4993-91b3-92c09a221086",
      "cell_type": "markdown",
      "source": "|Data Science Tools|\n|---|\n|SAS|\n|Apache Hadoop|\n|TensorFlow|",
      "metadata": {}
    },
    {
      "id": "95cda144-8b52-4a0a-949c-54f01af80bd6",
      "cell_type": "markdown",
      "source": "### Below are a few examples of evaluating arithmetic expressions in Python",
      "metadata": {}
    },
    {
      "id": "33e9f197-1cf3-4c98-8358-5411b0a53cff",
      "cell_type": "code",
      "source": "#This is a simple arithmetic expression to multiply then add integers\n(3*4)+5",
      "metadata": {
        "trusted": true
      },
      "outputs": [
        {
          "execution_count": 7,
          "output_type": "execute_result",
          "data": {
            "text/plain": "17"
          },
          "metadata": {}
        }
      ],
      "execution_count": 7
    },
    {
      "id": "9cbaa255-684a-4b5d-a146-68a76c7fcbd2",
      "cell_type": "code",
      "source": "#This will convert 200 minutes to hours by diving by 60\n200/60",
      "metadata": {
        "trusted": true
      },
      "outputs": [
        {
          "execution_count": 8,
          "output_type": "execute_result",
          "data": {
            "text/plain": "3.3333333333333335"
          },
          "metadata": {}
        }
      ],
      "execution_count": 8
    },
    {
      "id": "0d5a350c-75e2-4075-a269-8bc6e250dd9a",
      "cell_type": "markdown",
      "source": "__Objectives:__\n* List popular languages for Data Science\n* List popular libraries for Data Science\n* List of well-known Data Science Tools\n* How to Provide Comments in the cell",
      "metadata": {}
    },
    {
      "id": "efa7acaa-2174-4a12-8d95-02f63e0d9be0",
      "cell_type": "markdown",
      "source": "## Author\nAxl Nash N. Alcoba",
      "metadata": {}
    }
  ]
}